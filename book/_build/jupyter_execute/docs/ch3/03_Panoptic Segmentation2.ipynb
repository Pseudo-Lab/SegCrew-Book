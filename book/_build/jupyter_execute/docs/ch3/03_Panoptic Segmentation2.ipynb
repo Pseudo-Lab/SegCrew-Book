{
 "cells": [
  {
   "cell_type": "markdown",
   "metadata": {
    "id": "TQ7qhNBrevco"
   },
   "source": [
    "# Overview\n",
    "\n",
    "## Introduction\n",
    "\n",
    ":::{figure-md} pano-fig\n",
    "<img src=\"pic/panoSeg3.PNG\" alt=\"pfpn2\" class=\"bg-primary mb-1\" width=\"600px\">\n",
    "\n",
    "Segmentation Tasks (source: [arXiv:2006.12567](https://arxiv.org/abs/2006.12567))\n",
    ":::\n",
    "\n",
    "- Panoptic Segmentation은 pixel level의 classification을 수행하는 semantic segmentation과 객체 단위 기반 classfication을 수행하는 instance segmentation을 통합한 task로 각 pixel을 배경에 해당하는 stuff와 객체(instance)에 해당하는 things class로 분류하는 task이다. \n",
    "- 즉 입력 영상의 각 pixel을 overlap되지 않은 class label로 분류하는 문제로 정의할 수 있다. \n"
   ]
  },
  {
   "cell_type": "markdown",
   "metadata": {},
   "source": [
    "## Performance Measure\n",
    "\n",
    "- Panoptic Segmentation의 성능을 평가히기 위해 PQ(Panoptic Quality)를 사용한다. \n",
    "\n",
    "$$\n",
    "\\text{PQ}=\\frac{\\sum_{(p,q) \\in \\text{TP}}\\text{IoU}(p,q)}{|\\text{TP}|+\\frac{1}{2}|\\text{FP}|+\\frac{1}{2}|\\text{FN}|}\n",
    "$$\n",
    "\n",
    "- PQ를 계산하기 위해 먼저 Segment matching을 수행한 후 matching된 segment에 대해 PQ를 계산한다. 이때 GT와 predicted segment와의 match 여부는 IoU가 0.5 이상이고 가장 큰 IoU를 가지는 segment를 유일한 matched segment로 판정한다. \n",
    "- Metched segment를 계산한 후 TP(true positivie), FP(false positive)와 FN(false negative)를 구한다. 이는 {numref}`gt-fig`와 같이 나타낼 수 있다\n",
    "\n",
    ":::{figure-md} gt-fig\n",
    "<img src=\"pic/panoSeg2.png\" alt=\"pfpn2\" class=\"bg-primary mb-1\" width=\"500px\">\n",
    "\n",
    "GT and predicted panoptic segmentations of an image (source: arXiv:1801.00868)\n",
    ":::\n",
    "\n",
    "- PQ는 match되는 segment에 대한 평균 IoU에 match되지 않는 segment에 대한 페널티 $\\left(\\frac{1}{2}|FP| +\\frac{1}{2} |FN |\\right)$ 가 추가된 형태로 구성되어 있다.  PQ를 TP 항을 추가하여 분리하면 SQ(segmentation Quaility) 항과 RQ(recognition quality) 항의 곱으로 표현 가능하다. RQ는 널리 사용되는 F1 score로 해석할 수 있다. \n",
    "\n",
    "$$\n",
    "\\text{PQ}=\\underbrace{\\frac{\\sum_{(p,q) \\in \\text{TP}}\\text{IoU}(p,q)}{|\\text{TP}|}}_{\\text{SQ}}\\times \\underbrace{\\frac{\\text{TP}}{{|\\text{TP}|+\\frac{1}{2}|\\text{FP}|+\\frac{1}{2}|\\text{FN}|}}}_{\\text{RQ}}\n",
    "$$\n",
    "\n",
    "- PQ 계산시 void labels (unknown pixels 또는 out of class pixel)은 계산과정에서 제외한다."
   ]
  },
  {
   "cell_type": "markdown",
   "metadata": {},
   "source": [
    "## Trend"
   ]
  },
  {
   "cell_type": "code",
   "execution_count": 7,
   "metadata": {
    "tags": [
     "remove-input"
    ]
   },
   "outputs": [
    {
     "data": {
      "text/html": [
       "\n",
       "<div id=\"altair-viz-435d79a17e2f471abac64ffead7637ad\"></div>\n",
       "<script type=\"text/javascript\">\n",
       "  var VEGA_DEBUG = (typeof VEGA_DEBUG == \"undefined\") ? {} : VEGA_DEBUG;\n",
       "  (function(spec, embedOpt){\n",
       "    let outputDiv = document.currentScript.previousElementSibling;\n",
       "    if (outputDiv.id !== \"altair-viz-435d79a17e2f471abac64ffead7637ad\") {\n",
       "      outputDiv = document.getElementById(\"altair-viz-435d79a17e2f471abac64ffead7637ad\");\n",
       "    }\n",
       "    const paths = {\n",
       "      \"vega\": \"https://cdn.jsdelivr.net/npm//vega@5?noext\",\n",
       "      \"vega-lib\": \"https://cdn.jsdelivr.net/npm//vega-lib?noext\",\n",
       "      \"vega-lite\": \"https://cdn.jsdelivr.net/npm//vega-lite@4.17.0?noext\",\n",
       "      \"vega-embed\": \"https://cdn.jsdelivr.net/npm//vega-embed@6?noext\",\n",
       "    };\n",
       "\n",
       "    function maybeLoadScript(lib, version) {\n",
       "      var key = `${lib.replace(\"-\", \"\")}_version`;\n",
       "      return (VEGA_DEBUG[key] == version) ?\n",
       "        Promise.resolve(paths[lib]) :\n",
       "        new Promise(function(resolve, reject) {\n",
       "          var s = document.createElement('script');\n",
       "          document.getElementsByTagName(\"head\")[0].appendChild(s);\n",
       "          s.async = true;\n",
       "          s.onload = () => {\n",
       "            VEGA_DEBUG[key] = version;\n",
       "            return resolve(paths[lib]);\n",
       "          };\n",
       "          s.onerror = () => reject(`Error loading script: ${paths[lib]}`);\n",
       "          s.src = paths[lib];\n",
       "        });\n",
       "    }\n",
       "\n",
       "    function showError(err) {\n",
       "      outputDiv.innerHTML = `<div class=\"error\" style=\"color:red;\">${err}</div>`;\n",
       "      throw err;\n",
       "    }\n",
       "\n",
       "    function displayChart(vegaEmbed) {\n",
       "      vegaEmbed(outputDiv, spec, embedOpt)\n",
       "        .catch(err => showError(`Javascript Error: ${err.message}<br>This usually means there's a typo in your chart specification. See the javascript console for the full traceback.`));\n",
       "    }\n",
       "\n",
       "    if(typeof define === \"function\" && define.amd) {\n",
       "      requirejs.config({paths});\n",
       "      require([\"vega-embed\"], displayChart, err => showError(`Error loading script: ${err.message}`));\n",
       "    } else {\n",
       "      maybeLoadScript(\"vega\", \"5\")\n",
       "        .then(() => maybeLoadScript(\"vega-lite\", \"4.17.0\"))\n",
       "        .then(() => maybeLoadScript(\"vega-embed\", \"6\"))\n",
       "        .catch(showError)\n",
       "        .then(() => displayChart(vegaEmbed));\n",
       "    }\n",
       "  })({\"config\": {\"view\": {\"continuousWidth\": 400, \"continuousHeight\": 300}}, \"layer\": [{\"mark\": {\"type\": \"line\", \"point\": true, \"strokeWidth\": 1.5}, \"encoding\": {\"text\": {\"field\": \"nickname\", \"type\": \"nominal\"}, \"tooltip\": [{\"field\": \"year\", \"type\": \"nominal\"}, {\"field\": \"nickname\", \"type\": \"nominal\"}, {\"field\": \"PQ\", \"type\": \"quantitative\"}, {\"field\": \"backbone\", \"type\": \"nominal\"}], \"x\": {\"axis\": null, \"field\": \"idx\", \"scale\": {\"domain\": [0, 7]}, \"type\": \"quantitative\"}, \"y\": {\"axis\": {\"grid\": true}, \"field\": \"PQ\", \"scale\": {\"domain\": [35, 60]}, \"type\": \"quantitative\"}}, \"title\": [\"Trend on Panoptic Quality (COCO Test-dev)\"], \"width\": 800}, {\"mark\": {\"type\": \"text\", \"align\": \"center\", \"baseline\": \"middle\", \"dy\": -10}, \"encoding\": {\"text\": {\"field\": \"PQ\", \"type\": \"quantitative\"}, \"x\": {\"axis\": null, \"field\": \"idx\", \"scale\": {\"domain\": [0, 7]}, \"type\": \"quantitative\"}, \"y\": {\"axis\": null, \"field\": \"PQ\", \"scale\": {\"domain\": [35, 60]}, \"type\": \"quantitative\"}}, \"title\": [\"Trend on Panoptic Quality (COCO Test-dev)\"], \"width\": 800}, {\"mark\": {\"type\": \"text\", \"align\": \"center\", \"baseline\": \"middle\", \"dy\": 20}, \"encoding\": {\"text\": {\"field\": \"nickname\", \"type\": \"nominal\"}, \"x\": {\"axis\": null, \"field\": \"idx\", \"scale\": {\"domain\": [0, 7]}, \"type\": \"quantitative\"}, \"y\": {\"axis\": null, \"field\": \"PQ\", \"scale\": {\"domain\": [35, 60]}, \"type\": \"quantitative\"}}, \"title\": [\"Trend on Panoptic Quality (COCO Test-dev)\"], \"width\": 800}], \"data\": {\"name\": \"data-2376732c228e341cd838b28d5a8b76fe\"}, \"resolve\": {\"scale\": {\"y\": \"independent\"}}, \"$schema\": \"https://vega.github.io/schema/vega-lite/v4.17.0.json\", \"datasets\": {\"data-2376732c228e341cd838b28d5a8b76fe\": [{\"idx\": 1, \"year\": \"2019.\", \"nickname\": \"Panoptic-FPN\", \"PQ\": 40.9, \"backbone\": \"unknown\"}, {\"idx\": 2, \"year\": \"2019\", \"nickname\": \"USPNet\", \"PQ\": 46.6, \"backbone\": \"unknown\"}, {\"idx\": 3, \"year\": \"2020.\", \"nickname\": \"Axial-DeepLab\", \"PQ\": 44.2, \"backbone\": \"unknown\"}, {\"idx\": 4, \"year\": \"2020\", \"nickname\": \"DETR\", \"PQ\": 45.1, \"backbone\": \"unknown\"}, {\"idx\": 5, \"year\": \"2021.\", \"nickname\": \"PanopticFCN\", \"PQ\": 45.5, \"backbone\": \"unknown\"}, {\"idx\": 6, \"year\": \"2021\", \"nickname\": \"MaX-DeepLab\", \"PQ\": 51.3, \"backbone\": \"unknown\"}]}}, {\"mode\": \"vega-lite\"});\n",
       "</script>"
      ],
      "text/plain": [
       "alt.LayerChart(...)"
      ]
     },
     "execution_count": 7,
     "metadata": {},
     "output_type": "execute_result"
    }
   ],
   "source": [
    "#@title\n",
    "# https://medium.com/analytics-vidhya/creating-a-dual-axis-pareto-chart-in-altair-e3673107dd14\n",
    "# https://altair-viz.github.io/user_guide/interactions.html\n",
    "# https://www.datacamp.com/tutorial/altair-in-python\n",
    "\n",
    "import altair as alt\n",
    "import pandas as pd\n",
    "\n",
    "y_scale = [35, 60]\n",
    "\n",
    "data = pd.DataFrame({'idx': [1, 2, 3, 4, 5, 6],\n",
    "                     'year': [\"2019.\", \"2019\", \"2020.\", \"2020\", \"2021.\", \"2021\"],\n",
    "                     'nickname': ['Panoptic-FPN', 'USPNet', 'Axial-DeepLab', 'DETR', 'PanopticFCN', 'MaX-DeepLab'],\n",
    "                     'PQ' :[40.9, 46.6, 44.2, 45.1, 45.5, 51.3],\n",
    "                     'backbone' :[\"unknown\",\"unknown\",\"unknown\",\"unknown\",\"unknown\",\"unknown\"]})\n",
    "\n",
    "base = alt.Chart(data).encode(\n",
    "    x = alt.X(\"idx\", scale=alt.Scale(domain=[0, 7]),axis=None),\n",
    ").properties (\n",
    "width = 800,\n",
    "title = [\"Trend on Panoptic Quality (COCO Test-dev)\"]\n",
    ")\n",
    "\n",
    "line = base.mark_line(point = True, strokeWidth= 1.5 ).encode(\n",
    "    y=alt.Y('PQ', scale=alt.Scale(domain=y_scale),axis=alt.Axis(grid=True)),\n",
    "    tooltip = [alt.Tooltip('year'),\n",
    "               alt.Tooltip('nickname'),\n",
    "               alt.Tooltip('PQ'),\n",
    "               alt.Tooltip('backbone'),],\n",
    "    text = alt.Text('nickname')\n",
    ")\n",
    "\n",
    "points = base.mark_circle(strokeWidth= 3,).encode(\n",
    "         y=alt.Y('PQ', scale=alt.Scale(domain=y_scale), axis=None),\n",
    ")\n",
    "\n",
    "point_text = points.mark_text(align='center', baseline='middle', dy = -10,).encode(\n",
    "    y= alt.Y('PQ', scale=alt.Scale(domain=y_scale), axis=None),\n",
    "    text=alt.Text('PQ'),\n",
    ")\n",
    "point_text2 = points.mark_text(align='center', baseline='middle', dy = 20,).encode(\n",
    "    y= alt.Y('PQ', scale=alt.Scale(domain=y_scale), axis=None),\n",
    "    text=alt.Text('nickname'),\n",
    ")\n",
    "\n",
    "# Layer all the elements together \n",
    "(line+point_text+point_text2).resolve_scale(y = 'independent')\n"
   ]
  },
  {
   "cell_type": "markdown",
   "metadata": {},
   "source": [
    "\n",
    "+++\n",
    "\n",
    "- 본 chapter에서는 panoptic segmentation 논문을 i) box based methods와 ii) box-free methods로 구분하여 리뷰하고 각 지금까지의 발전 현황과 개선방안에 대해 고찰한다.\n",
    "\n",
    "*Latest update: Jun 21, 2022*"
   ]
  }
 ],
 "metadata": {
  "colab": {
   "name": "Panoptic_Segmentation.ipynb",
   "provenance": []
  },
  "kernelspec": {
   "display_name": "Python 3.8.8 ('base')",
   "language": "python",
   "name": "python3"
  },
  "language_info": {
   "codemirror_mode": {
    "name": "ipython",
    "version": 3
   },
   "file_extension": ".py",
   "mimetype": "text/x-python",
   "name": "python",
   "nbconvert_exporter": "python",
   "pygments_lexer": "ipython3",
   "version": "3.8.8"
  },
  "vscode": {
   "interpreter": {
    "hash": "e07e90f252ae2471466546e030fecaa73b7543fcb278434c5336cec3e9ef6ac2"
   }
  }
 },
 "nbformat": 4,
 "nbformat_minor": 0
}