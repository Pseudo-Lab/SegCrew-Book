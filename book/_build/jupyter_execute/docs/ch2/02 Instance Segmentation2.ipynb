{
 "cells": [
  {
   "cell_type": "markdown",
   "metadata": {
    "id": "TQ7qhNBrevco"
   },
   "source": [
    "# Overview\n"
   ]
  },
  {
   "cell_type": "markdown",
   "metadata": {},
   "source": [
    "## Trend\n"
   ]
  },
  {
   "cell_type": "code",
   "execution_count": 7,
   "metadata": {
    "tags": [
     "remove-input"
    ]
   },
   "outputs": [
    {
     "data": {
      "text/html": [
       "\n",
       "<div id=\"altair-viz-57d328e66b3540d5b38328f859852e74\"></div>\n",
       "<script type=\"text/javascript\">\n",
       "  var VEGA_DEBUG = (typeof VEGA_DEBUG == \"undefined\") ? {} : VEGA_DEBUG;\n",
       "  (function(spec, embedOpt){\n",
       "    let outputDiv = document.currentScript.previousElementSibling;\n",
       "    if (outputDiv.id !== \"altair-viz-57d328e66b3540d5b38328f859852e74\") {\n",
       "      outputDiv = document.getElementById(\"altair-viz-57d328e66b3540d5b38328f859852e74\");\n",
       "    }\n",
       "    const paths = {\n",
       "      \"vega\": \"https://cdn.jsdelivr.net/npm//vega@5?noext\",\n",
       "      \"vega-lib\": \"https://cdn.jsdelivr.net/npm//vega-lib?noext\",\n",
       "      \"vega-lite\": \"https://cdn.jsdelivr.net/npm//vega-lite@4.17.0?noext\",\n",
       "      \"vega-embed\": \"https://cdn.jsdelivr.net/npm//vega-embed@6?noext\",\n",
       "    };\n",
       "\n",
       "    function maybeLoadScript(lib, version) {\n",
       "      var key = `${lib.replace(\"-\", \"\")}_version`;\n",
       "      return (VEGA_DEBUG[key] == version) ?\n",
       "        Promise.resolve(paths[lib]) :\n",
       "        new Promise(function(resolve, reject) {\n",
       "          var s = document.createElement('script');\n",
       "          document.getElementsByTagName(\"head\")[0].appendChild(s);\n",
       "          s.async = true;\n",
       "          s.onload = () => {\n",
       "            VEGA_DEBUG[key] = version;\n",
       "            return resolve(paths[lib]);\n",
       "          };\n",
       "          s.onerror = () => reject(`Error loading script: ${paths[lib]}`);\n",
       "          s.src = paths[lib];\n",
       "        });\n",
       "    }\n",
       "\n",
       "    function showError(err) {\n",
       "      outputDiv.innerHTML = `<div class=\"error\" style=\"color:red;\">${err}</div>`;\n",
       "      throw err;\n",
       "    }\n",
       "\n",
       "    function displayChart(vegaEmbed) {\n",
       "      vegaEmbed(outputDiv, spec, embedOpt)\n",
       "        .catch(err => showError(`Javascript Error: ${err.message}<br>This usually means there's a typo in your chart specification. See the javascript console for the full traceback.`));\n",
       "    }\n",
       "\n",
       "    if(typeof define === \"function\" && define.amd) {\n",
       "      requirejs.config({paths});\n",
       "      require([\"vega-embed\"], displayChart, err => showError(`Error loading script: ${err.message}`));\n",
       "    } else {\n",
       "      maybeLoadScript(\"vega\", \"5\")\n",
       "        .then(() => maybeLoadScript(\"vega-lite\", \"4.17.0\"))\n",
       "        .then(() => maybeLoadScript(\"vega-embed\", \"6\"))\n",
       "        .catch(showError)\n",
       "        .then(() => displayChart(vegaEmbed));\n",
       "    }\n",
       "  })({\"config\": {\"view\": {\"continuousWidth\": 400, \"continuousHeight\": 300}}, \"layer\": [{\"mark\": {\"type\": \"line\", \"color\": \"#fde725\", \"strokeWidth\": 1.5}, \"encoding\": {\"color\": {\"field\": \"type\", \"type\": \"nominal\"}, \"x\": {\"axis\": null, \"field\": \"idx\", \"scale\": {\"domain\": [0, 14]}, \"type\": \"quantitative\"}, \"y\": {\"axis\": {\"grid\": true}, \"field\": \"miou\", \"scale\": {\"domain\": [25, 60]}, \"type\": \"quantitative\"}}, \"title\": [\"Trend on AP (COCO Test-dev)\"], \"width\": 800}, {\"mark\": {\"type\": \"circle\", \"color\": \"#000000\", \"strokeWidth\": 3}, \"encoding\": {\"tooltip\": [{\"field\": \"year\", \"type\": \"nominal\"}, {\"field\": \"nickname\", \"type\": \"nominal\"}, {\"field\": \"miou\", \"type\": \"quantitative\"}, {\"field\": \"backbone\", \"type\": \"nominal\"}], \"x\": {\"axis\": null, \"field\": \"idx\", \"scale\": {\"domain\": [0, 14]}, \"type\": \"quantitative\"}, \"y\": {\"axis\": null, \"field\": \"miou\", \"scale\": {\"domain\": [25, 60]}, \"type\": \"quantitative\"}}, \"title\": [\"Trend on AP (COCO Test-dev)\"], \"width\": 800}, {\"mark\": {\"type\": \"text\", \"align\": \"center\", \"baseline\": \"middle\", \"dy\": -10}, \"encoding\": {\"color\": {\"value\": \"#000000\"}, \"text\": {\"field\": \"miou\", \"type\": \"quantitative\"}, \"tooltip\": [{\"field\": \"year\", \"type\": \"nominal\"}, {\"field\": \"nickname\", \"type\": \"nominal\"}, {\"field\": \"miou\", \"type\": \"quantitative\"}, {\"field\": \"backbone\", \"type\": \"nominal\"}], \"x\": {\"axis\": null, \"field\": \"idx\", \"scale\": {\"domain\": [0, 14]}, \"type\": \"quantitative\"}, \"y\": {\"axis\": null, \"field\": \"miou\", \"scale\": {\"domain\": [25, 60]}, \"type\": \"quantitative\"}}, \"title\": [\"Trend on AP (COCO Test-dev)\"], \"width\": 800}, {\"mark\": {\"type\": \"text\", \"align\": \"center\", \"baseline\": \"middle\", \"dy\": 20}, \"encoding\": {\"color\": {\"value\": \"#000000\"}, \"text\": {\"field\": \"nickname\", \"type\": \"nominal\"}, \"tooltip\": [{\"field\": \"year\", \"type\": \"nominal\"}, {\"field\": \"nickname\", \"type\": \"nominal\"}, {\"field\": \"miou\", \"type\": \"quantitative\"}, {\"field\": \"backbone\", \"type\": \"nominal\"}], \"x\": {\"axis\": null, \"field\": \"idx\", \"scale\": {\"domain\": [0, 14]}, \"type\": \"quantitative\"}, \"y\": {\"axis\": null, \"field\": \"miou\", \"scale\": {\"domain\": [25, 60]}, \"type\": \"quantitative\"}}, \"title\": [\"Trend on AP (COCO Test-dev)\"], \"width\": 800}], \"data\": {\"name\": \"data-abfd8997ab3dc09b851ab9be3fa6f311\"}, \"resolve\": {\"scale\": {\"y\": \"independent\"}}, \"$schema\": \"https://vega.github.io/schema/vega-lite/v4.17.0.json\", \"datasets\": {\"data-abfd8997ab3dc09b851ab9be3fa6f311\": [{\"type\": \"Inst. Segmentation\", \"idx\": 1, \"year\": \"20xx\", \"nickname\": \"YOLACT\", \"miou\": 29.8, \"backbone\": \"unknown\"}, {\"type\": \"Inst. Segmentation\", \"idx\": 2, \"year\": \"20xx\", \"nickname\": \"YOLACT++\", \"miou\": 34.6, \"backbone\": \"unknown\"}, {\"type\": \"Inst. Segmentation\", \"idx\": 3, \"year\": \"20xx\", \"nickname\": \"Mask-RCNN\", \"miou\": 35.7, \"backbone\": \"unknown\"}, {\"type\": \"Inst. Segmentation\", \"idx\": 4, \"year\": \"20xx\", \"nickname\": \"CenterMask\", \"miou\": 38.3, \"backbone\": \"unknown\"}, {\"type\": \"Inst. Segmentation\", \"idx\": 5, \"year\": \"20xx\", \"nickname\": \"HTC\", \"miou\": 39.7, \"backbone\": \"unknown\"}, {\"type\": \"Inst. Segmentation\", \"idx\": 6, \"year\": \"20xx\", \"nickname\": \"BCNet\", \"miou\": 39.8, \"backbone\": \"unknown\"}, {\"type\": \"Inst. Segmentation\", \"idx\": 7, \"year\": \"20xx\", \"nickname\": \"ISTR\", \"miou\": 39.9, \"backbone\": \"unknown\"}, {\"type\": \"Inst. Segmentation\", \"idx\": 8, \"year\": \"20xx\", \"nickname\": \"D2Det\", \"miou\": 40.2, \"backbone\": \"unknown\"}, {\"type\": \"Inst. Segmentation\", \"idx\": 9, \"year\": \"20xx\", \"nickname\": \"SOLO\", \"miou\": 40.6, \"backbone\": \"unknown\"}, {\"type\": \"Inst. Segmentation\", \"idx\": 10, \"year\": \"20xx\", \"nickname\": \"BlendMask\", \"miou\": 41.3, \"backbone\": \"unknown\"}, {\"type\": \"Inst. Segmentation\", \"idx\": 11, \"year\": \"20xx\", \"nickname\": \"DetectoRS\", \"miou\": 47.5, \"backbone\": \"unknown\"}, {\"type\": \"Inst. Segmentation\", \"idx\": 12, \"year\": \"20xx\", \"nickname\": \"QueryInst\", \"miou\": 49.1, \"backbone\": \"unknown\"}, {\"type\": \"Inst. Segmentation\", \"idx\": 13, \"year\": \"20xx\", \"nickname\": \"Swin-L\", \"miou\": 50.2, \"backbone\": \"unknown\"}]}}, {\"mode\": \"vega-lite\"});\n",
       "</script>"
      ],
      "text/plain": [
       "alt.LayerChart(...)"
      ]
     },
     "execution_count": 7,
     "metadata": {},
     "output_type": "execute_result"
    }
   ],
   "source": [
    "#@title\n",
    "# https://medium.com/analytics-vidhya/creating-a-dual-axis-pareto-chart-in-altair-e3673107dd14\n",
    "# https://altair-viz.github.io/user_guide/interactions.html\n",
    "# https://www.datacamp.com/tutorial/altair-in-python\n",
    "\n",
    "import altair as alt\n",
    "import pandas as pd\n",
    "\n",
    "y_scale = [25, 60]\n",
    "x_scale = [0, 14]\n",
    "\n",
    "data = pd.DataFrame({'type': 13*[\"Inst. Segmentation\"],\n",
    "                     'idx': [1, 2, 3, 4, 5, 6, 7, 8, 9, 10, 11, 12, 13],\n",
    "                     'year': [\"20xx\", \"20xx\", \"20xx\", \"20xx\", \"20xx\", \"20xx\", \"20xx\", \"20xx\", \"20xx\", \"20xx\", \"20xx\", \"20xx\", \"20xx\"],\n",
    "                     'nickname': ['YOLACT', 'YOLACT++', 'Mask-RCNN', 'CenterMask','HTC','BCNet', 'ISTR', 'D2Det', 'SOLO', 'BlendMask', 'DetectoRS', 'QueryInst', 'Swin-L'],\n",
    "                     'miou' :[29.8, 34.6, 35.7, 38.3, 39.7, 39.8, 39.9, 40.2, 40.6, 41.3, 47.5, 49.1, 50.2],\n",
    "                     'backbone' :[\"unknown\",\"unknown\",\"unknown\",\"unknown\", \"unknown\",\"unknown\",\"unknown\",\"unknown\", \"unknown\",\"unknown\",\"unknown\", \"unknown\", \"unknown\"]\n",
    "                     }\n",
    "                     )\n",
    "\n",
    "def GetGraphElement(data, x_scale, y_scale, perf_measure, line_color = \"#000000\", point_color = \"#000000\", text_color = \"#000000\", text_y_pos = -10, textperf_y_pos=-20):\n",
    "    base = alt.Chart(data).encode(\n",
    "    x = alt.X(\"idx\", scale=alt.Scale(domain=x_scale),axis=None),\n",
    "    ).properties (\n",
    "    width = 800,\n",
    "    title = [\"Trend on AP (COCO Test-dev)\"]\n",
    "    )\n",
    "\n",
    "    line = base.mark_line(strokeWidth= 1.5, color = line_color).encode(\n",
    "        y=alt.Y('miou', scale=alt.Scale(domain=y_scale),axis=alt.Axis(grid=True)),\n",
    "        #text = alt.Text('nickname')\n",
    "        color=alt.Color('type'),\n",
    "        #opacity='type'\n",
    "    )\n",
    "\n",
    "    points = base.mark_circle(strokeWidth= 3, color = point_color).encode(\n",
    "            y=alt.Y(perf_measure, scale=alt.Scale(domain=y_scale), axis=None),\n",
    "            tooltip = [alt.Tooltip('year'),\n",
    "            alt.Tooltip('nickname'),\n",
    "            alt.Tooltip(perf_measure),\n",
    "            alt.Tooltip('backbone'),],\n",
    "    )\n",
    "\n",
    "    point_nick = points.mark_text(align='center', baseline='middle', dy = text_y_pos,).encode(\n",
    "        y= alt.Y(perf_measure, scale=alt.Scale(domain=y_scale), axis=None),\n",
    "        text=alt.Text(perf_measure),\n",
    "        color= alt.value(text_color)\n",
    "    )\n",
    "    point_perf = points.mark_text(align='center', baseline='middle', dy = textperf_y_pos).encode(\n",
    "        y= alt.Y(perf_measure, scale=alt.Scale(domain=y_scale), axis=None),\n",
    "        text=alt.Text('nickname'),\n",
    "        color= alt.value(text_color)\n",
    "    )   \n",
    "\n",
    "    return base, line, points, point_nick, point_perf\n",
    "\n",
    "def description_test(pos_x, pos_y, text, color):\n",
    "    return alt.Chart({'values':[{}]}).mark_text(align = \"left\", baseline =\"top\").encode(\n",
    "        x = alt.value(pos_x),\n",
    "        y = alt.value(pos_y),\n",
    "        text = alt.value([text]),\n",
    "        color= alt.value(color)\n",
    "    )\n",
    "    \n",
    "\n",
    "base, line, points, point_nick, point_perf = GetGraphElement(data, x_scale, y_scale, 'miou', \n",
    "                                                            line_color = \"#fde725\", point_color = \"#000000\", text_color = \"#000000\", \n",
    "                                                            text_y_pos = -10, textperf_y_pos=20)\n",
    "\n",
    "(\n",
    "    line+points+point_nick+point_perf\n",
    ").resolve_scale(y = 'independent')\n"
   ]
  },
  {
   "cell_type": "markdown",
   "metadata": {},
   "source": [
    "\n",
    "*Latest update: Jan 6, 2022*"
   ]
  }
 ],
 "metadata": {
  "colab": {
   "name": "Panoptic_Segmentation.ipynb",
   "provenance": []
  },
  "kernelspec": {
   "display_name": "Python 3.8.8 ('base')",
   "language": "python",
   "name": "python3"
  },
  "language_info": {
   "codemirror_mode": {
    "name": "ipython",
    "version": 3
   },
   "file_extension": ".py",
   "mimetype": "text/x-python",
   "name": "python",
   "nbconvert_exporter": "python",
   "pygments_lexer": "ipython3",
   "version": "3.8.8"
  },
  "vscode": {
   "interpreter": {
    "hash": "e07e90f252ae2471466546e030fecaa73b7543fcb278434c5336cec3e9ef6ac2"
   }
  }
 },
 "nbformat": 4,
 "nbformat_minor": 0
}