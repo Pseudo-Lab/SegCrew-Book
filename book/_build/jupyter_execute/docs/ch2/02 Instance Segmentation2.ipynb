{
 "cells": [
  {
   "cell_type": "markdown",
   "metadata": {
    "id": "TQ7qhNBrevco"
   },
   "source": [
    "# Overview\n"
   ]
  },
  {
   "cell_type": "markdown",
   "metadata": {},
   "source": [
    "## Introduction\n",
    "\n",
    ":::{figure-md} markdown-fig\n",
    "<img src=\"pic/instSeg2.png\" alt=\"pfpn1\" class=\"bg-primary mb-1\" width=\"600px\">\n",
    "\n",
    "Semantic Segmentation vs. Instance Segmentation (source: ??)\n",
    ":::\n",
    "\n",
    "- Instance segmentation은 입력 영상에 존재하는 객체(instance)의 정보를 반영한 pixel level classification 방법으로, 각 pixel이  속한 객체 label 및 객체의 classes를 추정하는 방법이다. \n",
    "- semantic segmentation과 같이 pixel-level의 classification으로 정의되는 것은 동일하지만, 같은 class에 속하더라도 객체별로 다른 label을 가져야 하기 때문에 위치 정보가 반영된 inference가 추가적으로 필요하다.\n",
    "- 따라서 object detection을 통해 얻은 bounding box 내의 segmentation을 수행하는 방법이 주로 적용되어, 일반적으로 instance segmentation은 배경을 제외한 객체(instance)의 영역에 대해서 class와 label을 예측한다."
   ]
  },
  {
   "cell_type": "markdown",
   "metadata": {},
   "source": [
    "## Performance Measure\n",
    "\n",
    "- Instance segmentation 성능평가를 위해 주로 적용되는 measure는 COCO banchmark의 평가지표로 사용되는 $\\text{mask}\\ AP$(average precision)으로 instance의 ground truth mask와 prediction된 mask의 IoU threshold를 0.50에서 0.05단위로 0.95까지 설정하여 구한 precision의 평균으로 구한다. COCO style의 mAP(mean AP)는 다음과 같이 계산할 수 있다. \n",
    "\n",
    "    $$mAP=\\frac{1}{C} \\sum_{c \\in C}\\frac{|TP_c|}{|FP_c|+|TP_c|}$$\n",
    "\n",
    "    여기서 $TP$는 true positive, $FP$는 false positive를 나타내며, $C$는 ground truth의 class 수이다. \n",
    "    \n",
    "- IoU threshold가 0.5 (50%)인 값을 $AP_{50}$으로, threshold가 0.7 (70%) 일 때는 $AP_{70}$으로 표현한다. \n"
   ]
  },
  {
   "cell_type": "markdown",
   "metadata": {},
   "source": [
    "## Trend\n"
   ]
  },
  {
   "cell_type": "code",
   "execution_count": 15,
   "metadata": {
    "tags": [
     "remove-input"
    ]
   },
   "outputs": [
    {
     "data": {
      "text/html": [
       "\n",
       "<div id=\"altair-viz-d5bb9de765ec46edb127726202c4c893\"></div>\n",
       "<script type=\"text/javascript\">\n",
       "  var VEGA_DEBUG = (typeof VEGA_DEBUG == \"undefined\") ? {} : VEGA_DEBUG;\n",
       "  (function(spec, embedOpt){\n",
       "    let outputDiv = document.currentScript.previousElementSibling;\n",
       "    if (outputDiv.id !== \"altair-viz-d5bb9de765ec46edb127726202c4c893\") {\n",
       "      outputDiv = document.getElementById(\"altair-viz-d5bb9de765ec46edb127726202c4c893\");\n",
       "    }\n",
       "    const paths = {\n",
       "      \"vega\": \"https://cdn.jsdelivr.net/npm//vega@5?noext\",\n",
       "      \"vega-lib\": \"https://cdn.jsdelivr.net/npm//vega-lib?noext\",\n",
       "      \"vega-lite\": \"https://cdn.jsdelivr.net/npm//vega-lite@4.17.0?noext\",\n",
       "      \"vega-embed\": \"https://cdn.jsdelivr.net/npm//vega-embed@6?noext\",\n",
       "    };\n",
       "\n",
       "    function maybeLoadScript(lib, version) {\n",
       "      var key = `${lib.replace(\"-\", \"\")}_version`;\n",
       "      return (VEGA_DEBUG[key] == version) ?\n",
       "        Promise.resolve(paths[lib]) :\n",
       "        new Promise(function(resolve, reject) {\n",
       "          var s = document.createElement('script');\n",
       "          document.getElementsByTagName(\"head\")[0].appendChild(s);\n",
       "          s.async = true;\n",
       "          s.onload = () => {\n",
       "            VEGA_DEBUG[key] = version;\n",
       "            return resolve(paths[lib]);\n",
       "          };\n",
       "          s.onerror = () => reject(`Error loading script: ${paths[lib]}`);\n",
       "          s.src = paths[lib];\n",
       "        });\n",
       "    }\n",
       "\n",
       "    function showError(err) {\n",
       "      outputDiv.innerHTML = `<div class=\"error\" style=\"color:red;\">${err}</div>`;\n",
       "      throw err;\n",
       "    }\n",
       "\n",
       "    function displayChart(vegaEmbed) {\n",
       "      vegaEmbed(outputDiv, spec, embedOpt)\n",
       "        .catch(err => showError(`Javascript Error: ${err.message}<br>This usually means there's a typo in your chart specification. See the javascript console for the full traceback.`));\n",
       "    }\n",
       "\n",
       "    if(typeof define === \"function\" && define.amd) {\n",
       "      requirejs.config({paths});\n",
       "      require([\"vega-embed\"], displayChart, err => showError(`Error loading script: ${err.message}`));\n",
       "    } else {\n",
       "      maybeLoadScript(\"vega\", \"5\")\n",
       "        .then(() => maybeLoadScript(\"vega-lite\", \"4.17.0\"))\n",
       "        .then(() => maybeLoadScript(\"vega-embed\", \"6\"))\n",
       "        .catch(showError)\n",
       "        .then(() => displayChart(vegaEmbed));\n",
       "    }\n",
       "  })({\"config\": {\"view\": {\"continuousWidth\": 400, \"continuousHeight\": 300}}, \"layer\": [{\"mark\": {\"type\": \"line\", \"color\": \"#fde725\", \"strokeWidth\": 1.5}, \"encoding\": {\"color\": {\"field\": \"type\", \"type\": \"nominal\"}, \"x\": {\"axis\": null, \"field\": \"idx\", \"scale\": {\"domain\": [0, 14]}, \"type\": \"quantitative\"}, \"y\": {\"axis\": {\"grid\": true}, \"field\": \"maskAP\", \"scale\": {\"domain\": [25, 60]}, \"type\": \"quantitative\"}}, \"title\": [\"Trend on mIoU (PASCAL VOC 2012 testset)\"], \"width\": 800}, {\"mark\": {\"type\": \"circle\", \"color\": \"#000000\", \"strokeWidth\": 3}, \"encoding\": {\"tooltip\": [{\"field\": \"year\", \"type\": \"nominal\"}, {\"field\": \"nickname\", \"type\": \"nominal\"}, {\"field\": \"maskAP\", \"type\": \"quantitative\"}, {\"field\": \"backbone\", \"type\": \"nominal\"}], \"x\": {\"axis\": null, \"field\": \"idx\", \"scale\": {\"domain\": [0, 14]}, \"type\": \"quantitative\"}, \"y\": {\"axis\": null, \"field\": \"maskAP\", \"scale\": {\"domain\": [25, 60]}, \"type\": \"quantitative\"}}, \"title\": [\"Trend on mIoU (PASCAL VOC 2012 testset)\"], \"width\": 800}, {\"mark\": {\"type\": \"text\", \"align\": \"center\", \"baseline\": \"middle\", \"dy\": -20}, \"encoding\": {\"color\": {\"value\": \"#000000\"}, \"text\": {\"field\": \"maskAP\", \"type\": \"quantitative\"}, \"tooltip\": [{\"field\": \"year\", \"type\": \"nominal\"}, {\"field\": \"nickname\", \"type\": \"nominal\"}, {\"field\": \"maskAP\", \"type\": \"quantitative\"}, {\"field\": \"backbone\", \"type\": \"nominal\"}], \"x\": {\"axis\": null, \"field\": \"idx\", \"scale\": {\"domain\": [0, 14]}, \"type\": \"quantitative\"}, \"y\": {\"axis\": null, \"field\": \"maskAP\", \"scale\": {\"domain\": [25, 60]}, \"type\": \"quantitative\"}}, \"title\": [\"Trend on mIoU (PASCAL VOC 2012 testset)\"], \"width\": 800}, {\"mark\": {\"type\": \"text\", \"align\": \"center\", \"baseline\": \"middle\", \"dy\": -30}, \"encoding\": {\"color\": {\"value\": \"#000000\"}, \"text\": {\"field\": \"nickname\", \"type\": \"nominal\"}, \"tooltip\": [{\"field\": \"year\", \"type\": \"nominal\"}, {\"field\": \"nickname\", \"type\": \"nominal\"}, {\"field\": \"maskAP\", \"type\": \"quantitative\"}, {\"field\": \"backbone\", \"type\": \"nominal\"}], \"x\": {\"axis\": null, \"field\": \"idx\", \"scale\": {\"domain\": [0, 14]}, \"type\": \"quantitative\"}, \"y\": {\"axis\": null, \"field\": \"maskAP\", \"scale\": {\"domain\": [25, 60]}, \"type\": \"quantitative\"}}, \"title\": [\"Trend on mIoU (PASCAL VOC 2012 testset)\"], \"width\": 800}, {\"data\": {\"name\": \"data-d00fbd4ccdc0e69bd02d03e7bf7d7421\"}, \"mark\": {\"type\": \"line\", \"color\": \"#cb4154\", \"strokeWidth\": 1.5}, \"encoding\": {\"color\": {\"field\": \"type\", \"type\": \"nominal\"}, \"x\": {\"axis\": null, \"field\": \"idx\", \"scale\": {\"domain\": [0, 14]}, \"type\": \"quantitative\"}, \"y\": {\"axis\": {\"grid\": true}, \"field\": \"maskAP\", \"scale\": {\"domain\": [25, 60]}, \"type\": \"quantitative\"}}, \"title\": [\"Trend on mIoU (PASCAL VOC 2012 testset)\"], \"width\": 800}, {\"data\": {\"name\": \"data-d00fbd4ccdc0e69bd02d03e7bf7d7421\"}, \"mark\": {\"type\": \"circle\", \"color\": \"#000000\", \"strokeWidth\": 3}, \"encoding\": {\"tooltip\": [{\"field\": \"year\", \"type\": \"nominal\"}, {\"field\": \"nickname\", \"type\": \"nominal\"}, {\"field\": \"maskAP\", \"type\": \"quantitative\"}, {\"field\": \"backbone\", \"type\": \"nominal\"}], \"x\": {\"axis\": null, \"field\": \"idx\", \"scale\": {\"domain\": [0, 14]}, \"type\": \"quantitative\"}, \"y\": {\"axis\": null, \"field\": \"maskAP\", \"scale\": {\"domain\": [25, 60]}, \"type\": \"quantitative\"}}, \"title\": [\"Trend on mIoU (PASCAL VOC 2012 testset)\"], \"width\": 800}, {\"data\": {\"name\": \"data-d00fbd4ccdc0e69bd02d03e7bf7d7421\"}, \"mark\": {\"type\": \"text\", \"align\": \"center\", \"baseline\": \"middle\", \"dy\": -10}, \"encoding\": {\"color\": {\"value\": \"#000000\"}, \"text\": {\"field\": \"maskAP\", \"type\": \"quantitative\"}, \"tooltip\": [{\"field\": \"year\", \"type\": \"nominal\"}, {\"field\": \"nickname\", \"type\": \"nominal\"}, {\"field\": \"maskAP\", \"type\": \"quantitative\"}, {\"field\": \"backbone\", \"type\": \"nominal\"}], \"x\": {\"axis\": null, \"field\": \"idx\", \"scale\": {\"domain\": [0, 14]}, \"type\": \"quantitative\"}, \"y\": {\"axis\": null, \"field\": \"maskAP\", \"scale\": {\"domain\": [25, 60]}, \"type\": \"quantitative\"}}, \"title\": [\"Trend on mIoU (PASCAL VOC 2012 testset)\"], \"width\": 800}, {\"data\": {\"name\": \"data-d00fbd4ccdc0e69bd02d03e7bf7d7421\"}, \"mark\": {\"type\": \"text\", \"align\": \"center\", \"baseline\": \"middle\", \"dy\": 20}, \"encoding\": {\"color\": {\"value\": \"#000000\"}, \"text\": {\"field\": \"nickname\", \"type\": \"nominal\"}, \"tooltip\": [{\"field\": \"year\", \"type\": \"nominal\"}, {\"field\": \"nickname\", \"type\": \"nominal\"}, {\"field\": \"maskAP\", \"type\": \"quantitative\"}, {\"field\": \"backbone\", \"type\": \"nominal\"}], \"x\": {\"axis\": null, \"field\": \"idx\", \"scale\": {\"domain\": [0, 14]}, \"type\": \"quantitative\"}, \"y\": {\"axis\": null, \"field\": \"maskAP\", \"scale\": {\"domain\": [25, 60]}, \"type\": \"quantitative\"}}, \"title\": [\"Trend on mIoU (PASCAL VOC 2012 testset)\"], \"width\": 800}, {\"data\": {\"name\": \"data-413ce1ab95f302ad4dd7d5c250a68935\"}, \"mark\": {\"type\": \"line\", \"color\": \"#3b518b\", \"strokeWidth\": 1.5}, \"encoding\": {\"color\": {\"field\": \"type\", \"type\": \"nominal\"}, \"x\": {\"axis\": null, \"field\": \"idx\", \"scale\": {\"domain\": [0, 14]}, \"type\": \"quantitative\"}, \"y\": {\"axis\": {\"grid\": true}, \"field\": \"maskAP\", \"scale\": {\"domain\": [25, 60]}, \"type\": \"quantitative\"}}, \"title\": [\"Trend on mIoU (PASCAL VOC 2012 testset)\"], \"width\": 800}, {\"data\": {\"name\": \"data-413ce1ab95f302ad4dd7d5c250a68935\"}, \"mark\": {\"type\": \"circle\", \"color\": \"#000000\", \"strokeWidth\": 3}, \"encoding\": {\"tooltip\": [{\"field\": \"year\", \"type\": \"nominal\"}, {\"field\": \"nickname\", \"type\": \"nominal\"}, {\"field\": \"maskAP\", \"type\": \"quantitative\"}, {\"field\": \"backbone\", \"type\": \"nominal\"}], \"x\": {\"axis\": null, \"field\": \"idx\", \"scale\": {\"domain\": [0, 14]}, \"type\": \"quantitative\"}, \"y\": {\"axis\": null, \"field\": \"maskAP\", \"scale\": {\"domain\": [25, 60]}, \"type\": \"quantitative\"}}, \"title\": [\"Trend on mIoU (PASCAL VOC 2012 testset)\"], \"width\": 800}, {\"data\": {\"name\": \"data-413ce1ab95f302ad4dd7d5c250a68935\"}, \"mark\": {\"type\": \"text\", \"align\": \"center\", \"baseline\": \"middle\", \"dy\": 20}, \"encoding\": {\"color\": {\"value\": \"#000000\"}, \"text\": {\"field\": \"maskAP\", \"type\": \"quantitative\"}, \"tooltip\": [{\"field\": \"year\", \"type\": \"nominal\"}, {\"field\": \"nickname\", \"type\": \"nominal\"}, {\"field\": \"maskAP\", \"type\": \"quantitative\"}, {\"field\": \"backbone\", \"type\": \"nominal\"}], \"x\": {\"axis\": null, \"field\": \"idx\", \"scale\": {\"domain\": [0, 14]}, \"type\": \"quantitative\"}, \"y\": {\"axis\": null, \"field\": \"maskAP\", \"scale\": {\"domain\": [25, 60]}, \"type\": \"quantitative\"}}, \"title\": [\"Trend on mIoU (PASCAL VOC 2012 testset)\"], \"width\": 800}, {\"data\": {\"name\": \"data-413ce1ab95f302ad4dd7d5c250a68935\"}, \"mark\": {\"type\": \"text\", \"align\": \"center\", \"baseline\": \"middle\", \"dy\": 30}, \"encoding\": {\"color\": {\"value\": \"#000000\"}, \"text\": {\"field\": \"nickname\", \"type\": \"nominal\"}, \"tooltip\": [{\"field\": \"year\", \"type\": \"nominal\"}, {\"field\": \"nickname\", \"type\": \"nominal\"}, {\"field\": \"maskAP\", \"type\": \"quantitative\"}, {\"field\": \"backbone\", \"type\": \"nominal\"}], \"x\": {\"axis\": null, \"field\": \"idx\", \"scale\": {\"domain\": [0, 14]}, \"type\": \"quantitative\"}, \"y\": {\"axis\": null, \"field\": \"maskAP\", \"scale\": {\"domain\": [25, 60]}, \"type\": \"quantitative\"}}, \"title\": [\"Trend on mIoU (PASCAL VOC 2012 testset)\"], \"width\": 800}], \"data\": {\"name\": \"data-36e7ac2c7ee531a669fac05277c7ad9f\"}, \"resolve\": {\"scale\": {\"y\": \"independent\"}}, \"$schema\": \"https://vega.github.io/schema/vega-lite/v4.17.0.json\", \"datasets\": {\"data-36e7ac2c7ee531a669fac05277c7ad9f\": [{\"type\": \"Anchor/proposal based method\", \"idx\": 1, \"year\": \"2017\", \"nickname\": \"Mask-RCNN\", \"maskAP\": 35.7, \"backbone\": \"unknown\"}, {\"type\": \"Anchor/proposal based method\", \"idx\": 2, \"year\": \"2019\", \"nickname\": \"CenterMask\", \"maskAP\": 38.3, \"backbone\": \"unknown\"}, {\"type\": \"Anchor/proposal based method\", \"idx\": 3, \"year\": \"2019\", \"nickname\": \"HTC\", \"maskAP\": 39.7, \"backbone\": \"unknown\"}, {\"type\": \"Anchor/proposal based method\", \"idx\": 4, \"year\": \"2020\", \"nickname\": \"BCNet\", \"maskAP\": 39.8, \"backbone\": \"unknown\"}, {\"type\": \"Anchor/proposal based method\", \"idx\": 5, \"year\": \"2020\", \"nickname\": \"D2Det\", \"maskAP\": 40.2, \"backbone\": \"unknown\"}, {\"type\": \"Anchor/proposal based method\", \"idx\": 6, \"year\": \"2020\", \"nickname\": \"BlendMask\", \"maskAP\": 41.3, \"backbone\": \"unknown\"}, {\"type\": \"Anchor/proposal based method\", \"idx\": 7, \"year\": \"2020\", \"nickname\": \"DetectoRS\", \"maskAP\": 47.5, \"backbone\": \"unknown\"}], \"data-d00fbd4ccdc0e69bd02d03e7bf7d7421\": [{\"type\": \"Single-stage/Anchor-free\", \"idx\": 2, \"year\": \"2019\", \"nickname\": \"YOLACT\", \"maskAP\": 29.8, \"backbone\": \"unknown\"}, {\"type\": \"Single-stage/Anchor-free\", \"idx\": 3, \"year\": \"2019\", \"nickname\": \"YOLACT++\", \"maskAP\": 34.6, \"backbone\": \"unknown\"}, {\"type\": \"Single-stage/Anchor-free\", \"idx\": 4, \"year\": \"2019\", \"nickname\": \"SOLO\", \"maskAP\": 40.6, \"backbone\": \"unknown\"}, {\"type\": \"Single-stage/Anchor-free\", \"idx\": 6, \"year\": \"2020\", \"nickname\": \"SOLOv2\", \"maskAP\": 41.7, \"backbone\": \"unknown\"}], \"data-413ce1ab95f302ad4dd7d5c250a68935\": [{\"type\": \"Transformer\", \"idx\": 8, \"year\": \"2021\", \"nickname\": \"ISTR\", \"maskAP\": 39.9, \"backbone\": \"ResNet101-FN, single-scale\"}, {\"type\": \"Transformer\", \"idx\": 9, \"year\": \"2021\", \"nickname\": \"QueryInst\", \"maskAP\": 49.1, \"backbone\": \"Single-scale\"}, {\"type\": \"Transformer\", \"idx\": 10, \"year\": \"2021\", \"nickname\": \"Swin-L\", \"maskAP\": 51.1, \"backbone\": \"HTC++, Multi-scale\"}, {\"type\": \"Transformer\", \"idx\": 11, \"year\": \"2021\", \"nickname\": \"Focal-L\", \"maskAP\": 51.3, \"backbone\": \"HTC++, Multi-scale\"}, {\"type\": \"Transformer\", \"idx\": 12, \"year\": \"2022\", \"nickname\": \"Mask DINO\", \"maskAP\": 54.7, \"backbone\": \"Single-scale\"}]}}, {\"mode\": \"vega-lite\"});\n",
       "</script>"
      ],
      "text/plain": [
       "alt.LayerChart(...)"
      ]
     },
     "execution_count": 15,
     "metadata": {},
     "output_type": "execute_result"
    }
   ],
   "source": [
    "#@title\n",
    "# https://medium.com/analytics-vidhya/creating-a-dual-axis-pareto-chart-in-altair-e3673107dd14\n",
    "# https://altair-viz.github.io/user_guide/interactions.html\n",
    "# https://www.datacamp.com/tutorial/altair-in-python\n",
    "\n",
    "import altair as alt\n",
    "import pandas as pd\n",
    "\n",
    "y_scale = [25, 60]\n",
    "x_scale = [0, 14]\n",
    "\n",
    "data1 = pd.DataFrame({'type': 7*[\"Anchor/proposal based method\"],\n",
    "                     'idx': [1, 2, 3, 4, 5, 6, 7],\n",
    "                     'year': [\"2017\", \"2019\", \"2019\", \"2020\", \"2020\", \"2020\", \"2020\"],\n",
    "                     'nickname': ['Mask-RCNN', 'CenterMask', 'HTC', 'BCNet', 'D2Det', 'BlendMask', 'DetectoRS'],\n",
    "                     'maskAP' :[35.7, 38.3, 39.7, 39.8, 40.2, 41.3, 47.5],\n",
    "                     'backbone' :[\"unknown\", \"unknown\", \"unknown\", \"unknown\", \"unknown\", \"unknown\", \"unknown\"]\n",
    "                     }\n",
    "                     )\n",
    "\n",
    "data2 = pd.DataFrame({'type': 4*[\"Single-stage/Anchor-free\"],\n",
    "                     'idx': [2, 3, 4, 6],\n",
    "                     'year': [\"2019\", \"2019\", \"2019\", \"2020\"],\n",
    "                     'nickname': ['YOLACT', 'YOLACT++', 'SOLO', 'SOLOv2'],\n",
    "                     'maskAP' :[29.8, 34.6, 40.6, 41.7],\n",
    "                     'backbone' :[\"unknown\", \"unknown\", \"unknown\", \"unknown\"]\n",
    "                     }\n",
    "                     )\n",
    "\n",
    "data3 = pd.DataFrame({'type': 5*[\"Transformer\"],\n",
    "                     'idx': [8,9,10,11,12],\n",
    "                     'year': [\"2021\", \"2021\", \"2021\", \"2021\", \"2022\"],\n",
    "                     'nickname': ['ISTR', 'QueryInst', 'Swin-L', 'Focal-L', 'Mask DINO'],\n",
    "                     'maskAP' :[39.9, 49.1, 51.1, 51.3, 54.7],\n",
    "                     'backbone' :[\"ResNet101-FN, single-scale\", \"Single-scale\", \"HTC++, Multi-scale\", \"HTC++, Multi-scale\", \"Single-scale\"]\n",
    "                     }\n",
    "                     )\n",
    "\n",
    "\n",
    "def GetGraphElement(data, x_scale, y_scale, perf_measure, line_color = \"#000000\", point_color = \"#000000\", text_color = \"#000000\", text_y_pos = -10, textperf_y_pos=-20):\n",
    "    base = alt.Chart(data).encode(\n",
    "    x = alt.X(\"idx\", scale=alt.Scale(domain=x_scale),axis=None),\n",
    "    ).properties (\n",
    "    width = 800,\n",
    "    title = [\"Trend on mIoU (PASCAL VOC 2012 testset)\"]\n",
    "    )\n",
    "\n",
    "    line = base.mark_line(strokeWidth= 1.5, color = line_color).encode(\n",
    "        y=alt.Y('maskAP', scale=alt.Scale(domain=y_scale),axis=alt.Axis(grid=True)),\n",
    "        #text = alt.Text('nickname')\n",
    "        color=alt.Color('type'),\n",
    "        #opacity='type'\n",
    "    )\n",
    "\n",
    "    points = base.mark_circle(strokeWidth= 3, color = point_color).encode(\n",
    "            y=alt.Y(perf_measure, scale=alt.Scale(domain=y_scale), axis=None),\n",
    "            tooltip = [alt.Tooltip('year'),\n",
    "            alt.Tooltip('nickname'),\n",
    "            alt.Tooltip(perf_measure),\n",
    "            alt.Tooltip('backbone'),],\n",
    "    )\n",
    "\n",
    "    point_nick = points.mark_text(align='center', baseline='middle', dy = text_y_pos,).encode(\n",
    "        y= alt.Y(perf_measure, scale=alt.Scale(domain=y_scale), axis=None),\n",
    "        text=alt.Text(perf_measure),\n",
    "        color= alt.value(text_color)\n",
    "    )\n",
    "    point_perf = points.mark_text(align='center', baseline='middle', dy = textperf_y_pos).encode(\n",
    "        y= alt.Y(perf_measure, scale=alt.Scale(domain=y_scale), axis=None),\n",
    "        text=alt.Text('nickname'),\n",
    "        color= alt.value(text_color)\n",
    "    )   \n",
    "\n",
    "    return base, line, points, point_nick, point_perf\n",
    "\n",
    "def description_test(pos_x, pos_y, text, color):\n",
    "    return alt.Chart({'values':[{}]}).mark_text(align = \"left\", baseline =\"top\").encode(\n",
    "        x = alt.value(pos_x),\n",
    "        y = alt.value(pos_y),\n",
    "        text = alt.value([text]),\n",
    "        color= alt.value(color)\n",
    "    )\n",
    "    \n",
    "\n",
    "base, line, points, point_nick, point_perf = GetGraphElement(data1, x_scale, y_scale, 'maskAP', \n",
    "                                                            line_color = \"#fde725\", point_color = \"#000000\", text_color = \"#000000\", \n",
    "                                                            text_y_pos = -20, textperf_y_pos=-30)\n",
    "base2, line2, points2, point_nick2, point_perf2 = GetGraphElement(data2, x_scale, y_scale, 'maskAP', \n",
    "                                                                    line_color = \"#cb4154\", point_color = \"#000000\", text_color = \"#000000\", \n",
    "                                                                    text_y_pos = -10, textperf_y_pos=20)\n",
    "base3, line3, points3, point_nick3, point_perf3 = GetGraphElement(data3, x_scale, y_scale, 'maskAP', \n",
    "                                                                    line_color = \"#3b518b\", point_color = \"#000000\", text_color = \"#000000\", \n",
    "                                                                    text_y_pos = 20, textperf_y_pos=30)\n",
    "\n",
    "(\n",
    "    line+points+point_nick+point_perf+\n",
    "    line2+points2+point_nick2+point_perf2+ \n",
    "    line3+points3+point_nick3+point_perf3\n",
    ").resolve_scale(y = 'independent')"
   ]
  },
  {
   "cell_type": "markdown",
   "metadata": {},
   "source": [
    "## Reference\n",
    "- https://www.cityscapes-dataset.com/benchmarks/\n",
    "- https://sviro.kl.dfki.de/instance-segmentation/\n",
    "- https://pyimagesearch.com/2022/05/02/mean-average-precision-map-using-the-coco-evaluator/\n",
    "- https://sviro.kl.dfki.de/instance-segmentation/"
   ]
  },
  {
   "cell_type": "markdown",
   "metadata": {},
   "source": [
    "\n",
    "*Latest update: Jan 6, 2022*"
   ]
  }
 ],
 "metadata": {
  "colab": {
   "name": "Panoptic_Segmentation.ipynb",
   "provenance": []
  },
  "kernelspec": {
   "display_name": "Python 3.8.10 64-bit",
   "language": "python",
   "name": "python3"
  },
  "language_info": {
   "codemirror_mode": {
    "name": "ipython",
    "version": 3
   },
   "file_extension": ".py",
   "mimetype": "text/x-python",
   "name": "python",
   "nbconvert_exporter": "python",
   "pygments_lexer": "ipython3",
   "version": "3.8.10"
  },
  "vscode": {
   "interpreter": {
    "hash": "e7370f93d1d0cde622a1f8e1c04877d8463912d04d973331ad4851f04de6915a"
   }
  }
 },
 "nbformat": 4,
 "nbformat_minor": 0
}